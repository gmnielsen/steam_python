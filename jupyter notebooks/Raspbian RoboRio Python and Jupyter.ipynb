{
 "cells": [
  {
   "cell_type": "markdown",
   "metadata": {
    "deletable": true,
    "editable": true
   },
   "source": [
    "# First code example"
   ]
  },
  {
   "cell_type": "code",
   "execution_count": 2,
   "metadata": {
    "collapsed": false,
    "deletable": true,
    "editable": true
   },
   "outputs": [
    {
     "name": "stdout",
     "output_type": "stream",
     "text": [
      "Hello World\n"
     ]
    }
   ],
   "source": [
    "print(\"Hello World\")"
   ]
  },
  {
   "cell_type": "markdown",
   "metadata": {
    "deletable": true,
    "editable": true
   },
   "source": [
    "### So?\n",
    "Change it and then press ctrl-enter\n",
    "You can execute directly inside this document, program, whatever it is.\n",
    "\n",
    "## Path for python\n",
    "This is straight python code: import the sys library and then print the path. If the path has changed, if you run the code (ctrl-enter) then it will change as well."
   ]
  },
  {
   "cell_type": "code",
   "execution_count": 3,
   "metadata": {
    "collapsed": false,
    "deletable": true,
    "editable": true
   },
   "outputs": [
    {
     "name": "stdout",
     "output_type": "stream",
     "text": [
      "['', '/home/pi/Public/RadicalImpact/steam_python/jupyter notebooks', '/home/pi/Public/rpi_ws281x-master/python', '/home/pi/Public/PyLibraries', '/home/pi/.virtualenvs/cv/lib/python3.4', '/home/pi/.virtualenvs/cv/lib/python3.4/plat-arm-linux-gnueabihf', '/home/pi/.virtualenvs/cv/lib/python3.4/lib-dynload', '/usr/lib/python3.4', '/usr/lib/python3.4/plat-arm-linux-gnueabihf', '/home/pi/.virtualenvs/cv/local/lib/python3.4/site-packages', '/home/pi/.virtualenvs/cv/lib/python3.4/site-packages', '/home/pi/.virtualenvs/cv/local/lib/python3.4/site-packages/IPython/extensions', '/home/pi/.ipython']\n"
     ]
    }
   ],
   "source": [
    "import sys\n",
    "print(sys.path)"
   ]
  },
  {
   "cell_type": "markdown",
   "metadata": {
    "deletable": true,
    "editable": true
   },
   "source": [
    "### Changing the Path\n",
    "\n",
    "When we need to import libraries, we need to add them to the path. Within the \"cv\" virtual environment, you will need to add to the pythonpath variable at the end of the bashrc file that works inside that environment. Since this needs to happen in terminal, I can't execute it here. You will have to do this in a new terminal window.\n",
    "\n",
    "```\n",
    "source ~/.profile\n",
    "workon cv\n",
    "sudo nano ~/.bashrc\n",
    "```\n",
    "There may be ways to have python reload the path, but it may just be easier to restart the jupyter notebook afresh.\n",
    "\n",
    "Also, remember that this path should include all the places where we have things we'll need to import, like network tables code and neopixel code.\n",
    "\n",
    "## Neopixel\n",
    "\n",
    "First, we need to import the library. Let's try it. \n",
    "\n",
    "```\n",
    "import rpi_we281x.i\n",
    "```\n",
    "Didn't work. That isn't a module, it is an instruction set to something called 'SWIG'. So, we intall SWIG onto our machine using\n",
    "```\n",
    "sudo apt-get install python-dev swig\n",
    "```\n",
    "and that doesn't work at all. The files that are created by SWIG and set up using this build are erroring out everywhere.\n",
    "\n",
    "I think I'll order some arduino nano for the robot, and move on to controlling the arduino by the rpi, and the rpi for camera processing.\n",
    "\n",
    "## RPi controlling an Arduino\n",
    "\n",
    "\n"
   ]
  },
  {
   "cell_type": "code",
   "execution_count": 4,
   "metadata": {
    "collapsed": false,
    "deletable": true,
    "editable": true,
    "scrolled": true
   },
   "outputs": [
    {
     "name": "stdout",
     "output_type": "stream",
     "text": [
      "finished for the night\n"
     ]
    }
   ],
   "source": [
    "print(\"finished for the night\")"
   ]
  },
  {
   "cell_type": "markdown",
   "metadata": {
    "deletable": true,
    "editable": true
   },
   "source": [
    "## GIT on the RPi\n",
    "```\n",
    "git config --global user.name \"gmnielsen\"\n",
    "git config --global user.email \"nielsen@cheverus.org\"\n",
    "git init\n",
    "```\n",
    "So the above sets up the repository in your current working directory.\n",
    "Now we'll clone over the steam_python repository to this local place.\n",
    "```\n",
    "git clone https://github.com/gmnielsen/steam_python.git\n",
    "```\n",
    "Now it is time to move the initial jupyter notebooks into this repository, and commit them.\n",
    "```\n",
    "git add \"name of the file\"\n",
    "git commit -m \"name of the commit\"\n",
    "git push steam_python\n",
    "```\n",
    "You can check where you are in git world with\n",
    "```\n",
    "git status\n",
    "```\n",
    "## Serial connection between the Raspberry Pi and the Arduino, using the USB cable"
   ]
  },
  {
   "cell_type": "code",
   "execution_count": 34,
   "metadata": {
    "collapsed": false,
    "deletable": true,
    "editable": true
   },
   "outputs": [
    {
     "data": {
      "text/plain": [
       "1"
      ]
     },
     "execution_count": 34,
     "metadata": {},
     "output_type": "execute_result"
    }
   ],
   "source": [
    "import serial\n",
    "import datetime\n",
    "# need to check how long we need the timeout, and do we need to\n",
    "# call it again for the next command\n",
    "ser = serial.Serial('/dev/ttyACM0',9600,timeout=3)\n",
    "# write puts data out to the arduino, and b specifies a string\n",
    "# a causes the ring to light, any other character causes the string\n",
    "# to turn off\n",
    "ser.write(b'a')\n",
    "ser.write(b'x')"
   ]
  },
  {
   "cell_type": "markdown",
   "metadata": {},
   "source": [
    "# it works!!!"
   ]
  },
  {
   "cell_type": "code",
   "execution_count": null,
   "metadata": {
    "collapsed": true
   },
   "outputs": [],
   "source": []
  }
 ],
 "metadata": {
  "kernelspec": {
   "display_name": "Python 3",
   "language": "python",
   "name": "python3"
  },
  "language_info": {
   "codemirror_mode": {
    "name": "ipython",
    "version": 3
   },
   "file_extension": ".py",
   "mimetype": "text/x-python",
   "name": "python",
   "nbconvert_exporter": "python",
   "pygments_lexer": "ipython3",
   "version": "3.4.2"
  }
 },
 "nbformat": 4,
 "nbformat_minor": 2
}
