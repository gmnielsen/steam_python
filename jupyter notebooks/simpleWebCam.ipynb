{
 "cells": [
  {
   "cell_type": "markdown",
   "metadata": {
    "deletable": true,
    "editable": true
   },
   "source": [
    "This program only starts a webcam, forces a defined width, and puts a bit of text on the image."
   ]
  },
  {
   "cell_type": "code",
   "execution_count": 1,
   "metadata": {
    "collapsed": false,
    "deletable": true,
    "editable": true
   },
   "outputs": [
    {
     "name": "stdout",
     "output_type": "stream",
     "text": [
      "[INFO] starting cameras\n"
     ]
    }
   ],
   "source": [
    "# needed imports\n",
    "from imutils.video import VideoStream\n",
    "import numpy as np\n",
    "import datetime\n",
    "import imutils\n",
    "import time\n",
    "import cv2\n",
    "\n",
    "# start up the camera\n",
    "print(\"[INFO] starting cameras\")\n",
    "webcam = VideoStream(src=0).start()\n",
    "webcam.framerate=15\n",
    "time.sleep(2)\n",
    "\n",
    "# get the image, manipulate it, and then show it\n",
    "while True:\n",
    "    frame = webcam.read()\n",
    "    frame = imutils.resize(frame, width=320)\n",
    "    # puts 'hello there' at a position: 10 pixels from the left, and 100 pixels up from the bottom\n",
    "    # 0.35 is the size, [0,0,255] is the color red, and 1 is thin\n",
    "    cv2.putText(frame, \"hello there\", (10, frame.shape[0] - 100), cv2.FONT_HERSHEY_SIMPLEX, 0.35, (0,0,255), 1)\n",
    "    # puts 'HI from me' at a position: 101 pixels from the left, and 102 pixels down from the top\n",
    "    # 0.55 is bigger text, purple([255,0,255]) and thicker (2)\n",
    "    cv2.putText(frame, \"HI from me\", (101, 102), cv2.FONT_HERSHEY_SIMPLEX, 0.55, (255,0,255), 2)\n",
    "    cv2.imshow(\"Frame\", frame)\n",
    "    \n",
    "    # test for a quit key press, the \"q\"\n",
    "    key = cv2.waitKey(1) & 0xFF\n",
    "    if key == ord(\"q\"):\n",
    "        break\n",
    "\n",
    "# clean up\n",
    "cv2.destroyAllWindows()\n",
    "webcam.stop()"
   ]
  }
 ],
 "metadata": {
  "kernelspec": {
   "display_name": "Python 3",
   "language": "python",
   "name": "python3"
  },
  "language_info": {
   "codemirror_mode": {
    "name": "ipython",
    "version": 3
   },
   "file_extension": ".py",
   "mimetype": "text/x-python",
   "name": "python",
   "nbconvert_exporter": "python",
   "pygments_lexer": "ipython3",
   "version": "3.4.2"
  }
 },
 "nbformat": 4,
 "nbformat_minor": 2
}
